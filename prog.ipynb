{
 "cells": [
  {
   "cell_type": "code",
   "execution_count": 15,
   "metadata": {},
   "outputs": [],
   "source": [
    "# importing libraries\n",
    "import numpy as np\n",
    "import os\n",
    "import nltk\n",
    "from nltk.stem import PorterStemmer\n",
    "from nltk.tokenize import TweetTokenizer\n",
    "from natsort import natsorted\n",
    "import string"
   ]
  },
  {
   "cell_type": "code",
   "execution_count": 18,
   "metadata": {},
   "outputs": [],
   "source": [
    "def remove_header_footer(final_string):\n",
    "    new_final_string = \"\"\n",
    "    tokens = final_string.split('\\n\\n')\n",
    " \n",
    "    # Remove tokens[0] and tokens[-1]\n",
    "    for token in tokens[1:-1]:\n",
    "        new_final_string += token + \" \"\n",
    "    return new_final_string\n"
   ]
  },
  {
   "cell_type": "code",
   "execution_count": 19,
   "metadata": {},
   "outputs": [],
   "source": [
    "def read_file(filename):\n",
    "    with open(filename, 'r', encoding=\"ascii\", errors=\"surrogateescape\") as f:\n",
    "        stuff = f.read()\n",
    "    f.close()\n",
    " \n",
    "    # Remove header and footer.\n",
    "    stuff = remove_header_footer(stuff)\n",
    "    return stuff"
   ]
  },
  {
   "cell_type": "code",
   "execution_count": 9,
   "metadata": {},
   "outputs": [],
   "source": []
  },
  {
   "cell_type": "code",
   "execution_count": 20,
   "metadata": {},
   "outputs": [],
   "source": [
    " \n",
    "def preprocessing(final_string):\n",
    "    # Tokenize.\n",
    "    tokenizer = TweetTokenizer()\n",
    "    token_list = tokenizer.tokenize(final_string)\n",
    "    # Remove punctuations.\n",
    "    table = str.maketrans('', '', '\\t')\n",
    "    token_list = [word.translate(table) for word in token_list]\n",
    "    punctuations = (string.punctuation).replace(\"'\", \"\")\n",
    "    trans_table = str.maketrans('', '', punctuations)\n",
    "    stripped_words = [word.translate(trans_table) for word in token_list]\n",
    "    token_list = [str for str in stripped_words if str]\n",
    " \n",
    "    # Change to lowercase.\n",
    "    token_list = [word.lower() for word in token_list]\n",
    "    return token_list\n",
    " "
   ]
  },
  {
   "cell_type": "code",
   "execution_count": 11,
   "metadata": {},
   "outputs": [],
   "source": [
    "# In this example, we create the positional index for only 1 folder.\n",
    "folder_names = [\"comp.graphics\"]\n",
    " \n",
    "# Initialize the stemmer.\n",
    "stemmer = PorterStemmer()\n",
    " \n",
    "# Initialize the file no.\n",
    "fileno = 0\n",
    " \n",
    "# Initialize the dictionary.\n",
    "pos_index = {}\n",
    " \n",
    "# Initialize the file mapping (fileno -> file name).\n",
    "file_map = {}"
   ]
  },
  {
   "cell_type": "code",
   "execution_count": 24,
   "metadata": {},
   "outputs": [],
   "source": [
    "for folder_name in folder_names:\n",
    "    file_names = natsorted(os.listdir(\"20_newsgroups/\" + folder_name))\n",
    "    for file_name in file_names:\n",
    "        stuff = read_file(\"20_newsgroups/\" + folder_name + \"/\" + file_name)\n",
    "        final_token_list = preprocessing(stuff)\n",
    "        for pos, term in enumerate(final_token_list):\n",
    "            term = stemmer.stem(term)\n",
    " \n",
    "            # If the term already exists in the positional index dictionary.\n",
    "            if term in pos_index:\n",
    "                n='0123456789'\n",
    "                pos_index[term][0] = pos_index[term][0] + 1\n",
    " \n",
    "                # Check if the term has existed in that DocID before.\n",
    "                if fileno in pos_index[term][1]:\n",
    "                    pos_index[term][1][fileno].append(pos)\n",
    " \n",
    "                else:\n",
    "                    pos_index[term][1][fileno] = [pos]\n",
    " \n",
    "            # If term does not exist in the positional index dictionary (first encounter).\n",
    "            else:\n",
    "                pos_index[term] = []\n",
    "                pos_index[term].append(1)\n",
    "                pos_index[term].append({})\n",
    "                # Add doc ID to postings list.\n",
    "                pos_index[term][1][fileno] = [pos]\n",
    " \n",
    "        # Map the file no. to the file name.\n",
    "        file_map[fileno] = \"20_newsgroups/\" + folder_name + \"/\" + file_name\n",
    " \n",
    "        # Increment the file no. counter for document ID mapping\n",
    "        fileno += 1"
   ]
  },
  {
   "cell_type": "code",
   "execution_count": 14,
   "metadata": {},
   "outputs": [
    {
     "name": "stdout",
     "output_type": "stream",
     "text": [
      "Positional Index\n",
      "[10, {215: [2081], 539: [66], 591: [879], 616: [462, 473], 680: [135], 691: [2081], 714: [4], 809: [333], 979: [0]}]\n",
      "Filename, [Positions]\n",
      "20_newsgroups/comp.graphics/38376 [2081]\n",
      "20_newsgroups/comp.graphics/38701 [66]\n",
      "20_newsgroups/comp.graphics/38753 [879]\n",
      "20_newsgroups/comp.graphics/38778 [462, 473]\n",
      "20_newsgroups/comp.graphics/38842 [135]\n",
      "20_newsgroups/comp.graphics/38853 [2081]\n",
      "20_newsgroups/comp.graphics/38876 [4]\n",
      "20_newsgroups/comp.graphics/38971 [333]\n",
      "20_newsgroups/comp.graphics/39663 [0]\n"
     ]
    }
   ],
   "source": [
    "# Sample positional index to test the code.\n",
    "sample_pos_idx = pos_index[\"andrew\"]\n",
    "print(\"Positional Index\")\n",
    "print(sample_pos_idx)\n",
    " \n",
    "file_list = sample_pos_idx[1]\n",
    "print(\"Filename, [Positions]\")\n",
    "for fileno, positions in file_list.items():\n",
    "    print(file_map[fileno], positions)"
   ]
  },
  {
   "cell_type": "code",
   "execution_count": 36,
   "metadata": {},
   "outputs": [
    {
     "ename": "TabError",
     "evalue": "inconsistent use of tabs and spaces in indentation (<ipython-input-36-5e98e3326236>, line 20)",
     "output_type": "error",
     "traceback": [
      "\u001b[0;36m  File \u001b[0;32m\"<ipython-input-36-5e98e3326236>\"\u001b[0;36m, line \u001b[0;32m20\u001b[0m\n\u001b[0;31m    while (x < len(num)):\u001b[0m\n\u001b[0m                         ^\u001b[0m\n\u001b[0;31mTabError\u001b[0m\u001b[0;31m:\u001b[0m inconsistent use of tabs and spaces in indentation\n"
     ]
    }
   ],
   "source": [
    "def convert_to_words(num):\n",
    "    # Get number of digits  in given number\n",
    "    l = len(num)\n",
    "   # Base cases\n",
    "    if (l == 0):\n",
    "        print(\"empty string\")\n",
    "        return\n",
    "    if (l > 4):\n",
    "        print(\"Length more than 4 is not supported\")\n",
    "        return\n",
    "    single_digits = [\"zero\", \"one\", \"two\", \"three\",\"four\", \"five\", \"six\", \"seven\",\"eight\", \"nine\"]\n",
    "    two_digits = [\"\", \"ten\", \"eleven\", \"twelve\",\"thirteen\", \"fourteen\", \"fifteen\",\"sixteen\", \"seventeen\", \"eighteen\",\"nineteen\"]\n",
    "    tens_multiple = [\"\", \"\", \"twenty\", \"thirty\", \"forty\",\"fifty\", \"sixty\", \"seventy\", \"eighty\",\"ninety\"]\n",
    "    tens_power = [\"hundred\", \"thousand\"]\n",
    "    print(num, \":\", end=\" \")\n",
    "    if (l == 1):\n",
    "        print(single_digits[ord(num[0]) - 48])\n",
    "        return\n",
    "    x = 0\n",
    "\twhile (x < len(num)):\n",
    "\t\tif (l >= 3):\n",
    "\t\t\tif (ord(num[x]) - 48 != 0):\n",
    "\t\t\t\tprint(single_digits[ord(num[x]) - 48],\n",
    "\t\t\t\t\tend=\" \")\n",
    "\t\t\t\tprint(tens_power[l - 3], end=\" \")\n",
    "\t\t\tl -= 1\n",
    "\t\telse:\n",
    "\t\t\tif (ord(num[x]) - 48 == 1):\n",
    "\t\t\t\tsum = (ord(num[x]) - 48 +\n",
    "\t\t\t\t\tord(num[x+1]) - 48)\n",
    "\t\t\t\tprint(two_digits[sum])\n",
    "\t\t\t\treturn\n",
    "\t\t\telif (ord(num[x]) - 48 == 2 and\n",
    "\t\t\t\tord(num[x + 1]) - 48 == 0):\n",
    "\t\t\t\tprint(\"twenty\")\n",
    "\t\t\t\treturn\n",
    "\t\t\telse:\n",
    "\t\t\t\ti = ord(num[x]) - 48\n",
    "\t\t\t\tif(i > 0):\n",
    "\t\t\t\t\tprint(tens_multiple[i], end=\" \")\n",
    "\t\t\t\telse:\n",
    "\t\t\t\t\tprint(\"\", end=\"\")\n",
    "\t\t\t\tx += 1\n",
    "\t\t\t\tif(ord(num[x]) - 48 != 0):\n",
    "\t\t\t\t\tprint(single_digits[ord(num[x]) - 48])\n",
    "\t\tx += 1\n",
    " "
   ]
  },
  {
   "cell_type": "code",
   "execution_count": 28,
   "metadata": {},
   "outputs": [
    {
     "ename": "NameError",
     "evalue": "name 'num' is not defined",
     "output_type": "error",
     "traceback": [
      "\u001b[0;31m---------------------------------------------------------------------------\u001b[0m",
      "\u001b[0;31mNameError\u001b[0m                                 Traceback (most recent call last)",
      "\u001b[0;32m<ipython-input-28-5932f5378c5e>\u001b[0m in \u001b[0;36m<module>\u001b[0;34m\u001b[0m\n\u001b[1;32m      3\u001b[0m \u001b[0mtens_multiple\u001b[0m \u001b[0;34m=\u001b[0m \u001b[0;34m[\u001b[0m\u001b[0;34m\"\"\u001b[0m\u001b[0;34m,\u001b[0m \u001b[0;34m\"\"\u001b[0m\u001b[0;34m,\u001b[0m \u001b[0;34m\"twenty\"\u001b[0m\u001b[0;34m,\u001b[0m \u001b[0;34m\"thirty\"\u001b[0m\u001b[0;34m,\u001b[0m \u001b[0;34m\"forty\"\u001b[0m\u001b[0;34m,\u001b[0m\u001b[0;34m\"fifty\"\u001b[0m\u001b[0;34m,\u001b[0m \u001b[0;34m\"sixty\"\u001b[0m\u001b[0;34m,\u001b[0m \u001b[0;34m\"seventy\"\u001b[0m\u001b[0;34m,\u001b[0m \u001b[0;34m\"eighty\"\u001b[0m\u001b[0;34m,\u001b[0m\u001b[0;34m\"ninety\"\u001b[0m\u001b[0;34m]\u001b[0m\u001b[0;34m\u001b[0m\u001b[0;34m\u001b[0m\u001b[0m\n\u001b[1;32m      4\u001b[0m \u001b[0mtens_power\u001b[0m \u001b[0;34m=\u001b[0m \u001b[0;34m[\u001b[0m\u001b[0;34m\"hundred\"\u001b[0m\u001b[0;34m,\u001b[0m \u001b[0;34m\"thousand\"\u001b[0m\u001b[0;34m]\u001b[0m\u001b[0;34m\u001b[0m\u001b[0;34m\u001b[0m\u001b[0m\n\u001b[0;32m----> 5\u001b[0;31m \u001b[0mprint\u001b[0m\u001b[0;34m(\u001b[0m\u001b[0mnum\u001b[0m\u001b[0;34m,\u001b[0m \u001b[0;34m\":\"\u001b[0m\u001b[0;34m,\u001b[0m \u001b[0mend\u001b[0m\u001b[0;34m=\u001b[0m\u001b[0;34m\" \"\u001b[0m\u001b[0;34m)\u001b[0m\u001b[0;34m\u001b[0m\u001b[0;34m\u001b[0m\u001b[0m\n\u001b[0m\u001b[1;32m      6\u001b[0m \u001b[0;32mif\u001b[0m \u001b[0;34m(\u001b[0m\u001b[0ml\u001b[0m \u001b[0;34m==\u001b[0m \u001b[0;36m1\u001b[0m\u001b[0;34m)\u001b[0m\u001b[0;34m:\u001b[0m\u001b[0;34m\u001b[0m\u001b[0;34m\u001b[0m\u001b[0m\n\u001b[1;32m      7\u001b[0m     \u001b[0mprint\u001b[0m\u001b[0;34m(\u001b[0m\u001b[0msingle_digits\u001b[0m\u001b[0;34m[\u001b[0m\u001b[0mord\u001b[0m\u001b[0;34m(\u001b[0m\u001b[0mnum\u001b[0m\u001b[0;34m[\u001b[0m\u001b[0;36m0\u001b[0m\u001b[0;34m]\u001b[0m\u001b[0;34m)\u001b[0m \u001b[0;34m-\u001b[0m \u001b[0;36m48\u001b[0m\u001b[0;34m]\u001b[0m\u001b[0;34m)\u001b[0m\u001b[0;34m\u001b[0m\u001b[0;34m\u001b[0m\u001b[0m\n",
      "\u001b[0;31mNameError\u001b[0m: name 'num' is not defined"
     ]
    }
   ],
   "source": []
  },
  {
   "cell_type": "code",
   "execution_count": null,
   "metadata": {},
   "outputs": [],
   "source": []
  }
 ],
 "metadata": {
  "kernelspec": {
   "display_name": "Python 3",
   "language": "python",
   "name": "python3"
  },
  "language_info": {
   "codemirror_mode": {
    "name": "ipython",
    "version": 3
   },
   "file_extension": ".py",
   "mimetype": "text/x-python",
   "name": "python",
   "nbconvert_exporter": "python",
   "pygments_lexer": "ipython3",
   "version": "3.7.4"
  }
 },
 "nbformat": 4,
 "nbformat_minor": 2
}
